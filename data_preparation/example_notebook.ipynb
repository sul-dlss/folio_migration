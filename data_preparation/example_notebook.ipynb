{
 "metadata": {
  "language_info": {
   "codemirror_mode": {
    "name": "ipython",
    "version": 3
   },
   "file_extension": ".py",
   "mimetype": "text/x-python",
   "name": "python",
   "nbconvert_exporter": "python",
   "pygments_lexer": "ipython3",
   "version": "3.9.2"
  },
  "orig_nbformat": 2,
  "kernelspec": {
   "name": "python3",
   "display_name": "Python 3.9.2 64-bit ('service_tools-R58Eg6mC': pipenv)"
  },
  "metadata": {
   "interpreter": {
    "hash": "ac59ebe37160ed0dfa835113d9b8498d9f09ceb179beaac4002f036b9467c963"
   }
  },
  "interpreter": {
   "hash": "7e67ca42a2f8b2bc0544941e0c1fb072cf51e627bb0bf68377be2440f1c2dfc5"
  }
 },
 "nbformat": 4,
 "nbformat_minor": 2,
 "cells": [
  {
   "source": [
    "# Demo notebook\n",
    "Run this code for each iteration/new data file.\n",
    "## Overview\n",
    "- Replace Sierra Item statused with new ones from map.\n"
   ],
   "cell_type": "markdown",
   "metadata": {}
  },
  {
   "source": [
    "## Open and inspect file\n",
    "Start by reading the file into a Pandas dataframe. If there is an encoding issue, use encoding=\"unicode_escape\" parametre to read the file anyway."
   ],
   "cell_type": "markdown",
   "metadata": {}
  },
  {
   "cell_type": "code",
   "execution_count": null,
   "metadata": {},
   "outputs": [],
   "source": [
    "import pandas as pd\n",
    "import csv\n",
    "\n",
    "filepath = \"\"\n",
    "delimiter = \"\\t\"\n",
    "map = {\n",
    "    \"-\": \"\",\n",
    "    \"n\": \"\",\n",
    "    \"@\": \"\",\n",
    "    \"w\": \"Withdrawn\",\n",
    "    \"$\": \"Lost and paid\",\n",
    "    \"m\": \"Missing\",\n",
    "    \"o\": \"Missing\"\n",
    "    }\n",
    "\n",
    "try:\n",
    "    data = pd.read_csv(filepath, dtype=object, delimiter=delimiter, na_filter=False)     \n",
    "    data[\"next_item_status\"] = data[\"next_item_status\"].map(lambda x: map.get(x.strip(), \"\"))\n",
    "except UnicodeDecodeError as e:\n",
    "    print(\"Escaping encoding error...\")\n",
    "    data = pd.read_csv(filepath, dtype=object, delimiter=delimiter, na_filter=False,encoding=\"unicode_escape\")\n",
    "\n",
    "# Show columns and some numbers\n",
    "data.info()\n",
    "data.head(2)"
   ]
  },
  {
   "source": [
    "## Save to a new file in the same folder"
   ],
   "cell_type": "markdown",
   "metadata": {}
  },
  {
   "cell_type": "code",
   "execution_count": null,
   "metadata": {},
   "outputs": [],
   "source": [
    "data.to_csv(filepath[:-4] + \"_prepped.tsv\", sep=\"\\t\", index=False, quoting=csv.QUOTE_NONE)"
   ]
  },
  {
   "cell_type": "code",
   "execution_count": null,
   "metadata": {},
   "outputs": [],
   "source": []
  }
 ]
}
