{
 "cells": [
  {
   "cell_type": "markdown",
   "id": "8d7443c0-c580-45f8-a074-348a873a69b8",
   "metadata": {},
   "source": [
    "# SUL Holdings and Locations"
   ]
  },
  {
   "cell_type": "code",
   "execution_count": 1,
   "id": "7dcbabd0-16b7-483d-b0c5-10f5061297d0",
   "metadata": {},
   "outputs": [],
   "source": [
    "import pandas\n",
    "\n",
    "locations = pandas.read_csv(\"../mapping_files/locations.tsv\")"
   ]
  },
  {
   "cell_type": "code",
   "execution_count": 2,
   "id": "7cdb7a9c-6149-445a-9c50-45f8969b7392",
   "metadata": {},
   "outputs": [
    {
     "data": {
      "text/html": [
       "<div>\n",
       "<style scoped>\n",
       "    .dataframe tbody tr th:only-of-type {\n",
       "        vertical-align: middle;\n",
       "    }\n",
       "\n",
       "    .dataframe tbody tr th {\n",
       "        vertical-align: top;\n",
       "    }\n",
       "\n",
       "    .dataframe thead th {\n",
       "        text-align: right;\n",
       "    }\n",
       "</style>\n",
       "<table border=\"1\" class=\"dataframe\">\n",
       "  <thead>\n",
       "    <tr style=\"text-align: right;\">\n",
       "      <th></th>\n",
       "      <th>legacy_code</th>\n",
       "      <th>folio_code</th>\n",
       "      <th>LIBRARY</th>\n",
       "    </tr>\n",
       "  </thead>\n",
       "  <tbody>\n",
       "    <tr>\n",
       "      <th>0</th>\n",
       "      <td>CURRICULUM</td>\n",
       "      <td>EDU-CURRICULUM</td>\n",
       "      <td>EDUCATION</td>\n",
       "    </tr>\n",
       "    <tr>\n",
       "      <th>1</th>\n",
       "      <td>STACKS</td>\n",
       "      <td>EDU-STACKS</td>\n",
       "      <td>EDUCATION</td>\n",
       "    </tr>\n",
       "    <tr>\n",
       "      <th>2</th>\n",
       "      <td>CURRSTOR</td>\n",
       "      <td>EDU-CURRSTOR</td>\n",
       "      <td>EDUCATION</td>\n",
       "    </tr>\n",
       "    <tr>\n",
       "      <th>3</th>\n",
       "      <td>INSTRUCTOR</td>\n",
       "      <td>EDU-INSTRUCTOR</td>\n",
       "      <td>EDUCATION</td>\n",
       "    </tr>\n",
       "    <tr>\n",
       "      <th>4</th>\n",
       "      <td>LOCKED-STK</td>\n",
       "      <td>EDU-LOCKED</td>\n",
       "      <td>EDUCATION</td>\n",
       "    </tr>\n",
       "  </tbody>\n",
       "</table>\n",
       "</div>"
      ],
      "text/plain": [
       "  legacy_code      folio_code    LIBRARY\n",
       "0  CURRICULUM  EDU-CURRICULUM  EDUCATION\n",
       "1      STACKS      EDU-STACKS  EDUCATION\n",
       "2    CURRSTOR    EDU-CURRSTOR  EDUCATION\n",
       "3  INSTRUCTOR  EDU-INSTRUCTOR  EDUCATION\n",
       "4  LOCKED-STK      EDU-LOCKED  EDUCATION"
      ]
     },
     "execution_count": 2,
     "metadata": {},
     "output_type": "execute_result"
    }
   ],
   "source": [
    "locations.head()"
   ]
  },
  {
   "cell_type": "code",
   "execution_count": 3,
   "id": "4a556fb9-d951-47e2-8717-7e66e1a1311b",
   "metadata": {},
   "outputs": [
    {
     "name": "stdout",
     "output_type": "stream",
     "text": [
      "<class 'pandas.core.frame.DataFrame'>\n",
      "RangeIndex: 7 entries, 0 to 6\n",
      "Data columns (total 3 columns):\n",
      " #   Column       Non-Null Count  Dtype \n",
      "---  ------       --------------  ----- \n",
      " 0   legacy_code  7 non-null      object\n",
      " 1   folio_code   7 non-null      object\n",
      " 2   LIBRARY      7 non-null      object\n",
      "dtypes: object(3)\n",
      "memory usage: 296.0+ bytes\n"
     ]
    }
   ],
   "source": [
    "locations.info()"
   ]
  },
  {
   "cell_type": "code",
   "execution_count": null,
   "id": "2eb1540e-9e4c-4d26-8602-0e94b1e99589",
   "metadata": {},
   "outputs": [],
   "source": []
  }
 ],
 "metadata": {
  "kernelspec": {
   "display_name": "Python 3 (ipykernel)",
   "language": "python",
   "name": "python3"
  },
  "language_info": {
   "codemirror_mode": {
    "name": "ipython",
    "version": 3
   },
   "file_extension": ".py",
   "mimetype": "text/x-python",
   "name": "python",
   "nbconvert_exporter": "python",
   "pygments_lexer": "ipython3",
   "version": "3.10.1"
  }
 },
 "nbformat": 4,
 "nbformat_minor": 5
}
